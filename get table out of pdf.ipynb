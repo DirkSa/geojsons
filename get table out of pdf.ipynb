{
 "cells": [
  {
   "cell_type": "code",
   "execution_count": null,
   "metadata": {},
   "outputs": [],
   "source": [
    "!pipenv install pdfplumber"
   ]
  },
  {
   "cell_type": "code",
   "execution_count": 1,
   "metadata": {},
   "outputs": [],
   "source": [
    "import pandas as pd\n",
    "from geopy.geocoders import Bing\n",
    "from geopy.geocoders import Nominatim\n",
    "import os\n",
    "import time\n",
    "import re\n",
    "import json"
   ]
  },
  {
   "cell_type": "code",
   "execution_count": 2,
   "metadata": {},
   "outputs": [
    {
     "name": "stdout",
     "output_type": "stream",
     "text": [
      "         variabele                           omschrijving\n",
      "0            regio                        Regioaanduiding\n",
      "1          gm_naam                           Gemeentenaam\n",
      "2             recs                            Soort regio\n",
      "3         gwb_code                               Codering\n",
      "4          ind_wbi   Indelingswijziging wijken en buurten\n",
      "..             ...                                    ...\n",
      "128        pst_mvp             Meest voorkomende postcode\n",
      "129       pst_dekp                     Dekkingspercentage\n",
      "130  Stedelijkheid                          Stedelijkheid\n",
      "131        ste_mvs                 Mate van stedelijkheid\n",
      "132        ste_oad             Omgevingsadressendichtheid\n",
      "\n",
      "[133 rows x 2 columns]\n"
     ]
    }
   ],
   "source": [
    "import pdfplumber\n",
    "import pandas as pd\n",
    "\n",
    "# Open the PDF file\n",
    "with pdfplumber.open(\"Toelichting-variabelen-kwb-2023.pdf\") as pdf:\n",
    "    all_tables = []\n",
    "    # Iterate through each page\n",
    "    for page in pdf.pages:\n",
    "        # Extract tables from the page\n",
    "        tables = page.extract_tables()\n",
    "        # Append the tables to the list of all tables\n",
    "        all_tables.extend(tables)\n",
    "\n",
    "# Convert each table to a DataFrame and concatenate them\n",
    "dfs = [pd.DataFrame(table) for table in all_tables]\n",
    "concatenated_df = pd.concat(dfs, ignore_index=True)\n",
    "\n",
    "# Keep only the first column\n",
    "concatenated_df = concatenated_df.iloc[:, [0]]\n",
    "\n",
    "# Use the first row as header\n",
    "concatenated_df.columns = concatenated_df.iloc[0]\n",
    "\n",
    "# Remove the first row (since it's now the header)\n",
    "concatenated_df = concatenated_df.iloc[1:]\n",
    "\n",
    "# Rename columns\n",
    "concatenated_df.columns = [\"variabele\"]\n",
    "\n",
    "# Split the column on the colon \":\" delimiter\n",
    "concatenated_df[\"omschrijving\"] = concatenated_df[\"variabele\"].str.split(\":\", n=1).str[-1]\n",
    "concatenated_df[\"variabele\"] = concatenated_df[\"variabele\"].str.split(\":\", n=1).str[0]\n",
    "\n",
    "# Remove records where \"omschrijving\" is missing\n",
    "concatenated_df = concatenated_df.dropna(subset=[\"omschrijving\"])\n",
    "\n",
    "# Reset index\n",
    "concatenated_df.reset_index(drop=True, inplace=True)\n",
    "\n",
    "# Print the resulting DataFrame\n",
    "print(concatenated_df)\n"
   ]
  },
  {
   "cell_type": "code",
   "execution_count": 11,
   "metadata": {},
   "outputs": [],
   "source": [
    "concatenated_df.to_csv(\"omschrijvingen KWB.csv\", sep=\";\", index=False)"
   ]
  },
  {
   "cell_type": "code",
   "execution_count": 10,
   "metadata": {},
   "outputs": [
    {
     "name": "stdout",
     "output_type": "stream",
     "text": [
      "    variabele                                  omschrijving\n",
      "97    p_jz_tn   Percentage jongeren met jeugdzorg in natura\n",
      "87   p_hh_110      Huishoudens tot 110% van sociaal minimum\n",
      "109  a_bed_ru      R-U Cultuur, recreatie, overige diensten\n",
      "88   p_hh_120      Huishoudens tot 120% van sociaal minimum\n",
      "96    a_jz_tn       Aantal jongeren met jeugdzorg in natura\n"
     ]
    }
   ],
   "source": [
    "# Sort the DataFrame by the length of the \"omschrijving\" column in descending order\n",
    "sorted_df = concatenated_df.sort_values(by=\"omschrijving\", key=lambda x: x.str.len(), ascending=False)\n",
    "\n",
    "# Get the 5 longest descriptions\n",
    "top_5_longest = sorted_df.head(5)\n",
    "\n",
    "# Print the top 5 longest descriptions\n",
    "print(top_5_longest)\n"
   ]
  }
 ],
 "metadata": {
  "kernelspec": {
   "display_name": "Algemene_data-K2nutAzn",
   "language": "python",
   "name": "python3"
  },
  "language_info": {
   "codemirror_mode": {
    "name": "ipython",
    "version": 3
   },
   "file_extension": ".py",
   "mimetype": "text/x-python",
   "name": "python",
   "nbconvert_exporter": "python",
   "pygments_lexer": "ipython3",
   "version": "3.11.8"
  }
 },
 "nbformat": 4,
 "nbformat_minor": 2
}
