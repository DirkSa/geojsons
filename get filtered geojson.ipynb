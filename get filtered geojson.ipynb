{
 "cells": [
  {
   "cell_type": "code",
   "execution_count": 8,
   "metadata": {},
   "outputs": [],
   "source": [
    "import json\n",
    "import requests\n",
    "\n",
    "def get_data(url, params=None):\n",
    "    headers = {}\n",
    "\n",
    "    try:\n",
    "        response = requests.get(url, params=params, headers=headers)\n",
    "        response.raise_for_status()  # Raise an exception for bad status codes\n",
    "        return response.json()\n",
    "    except requests.RequestException as e:\n",
    "        print(\"Error:\", e)\n",
    "        return None\n",
    "\n",
    "def get_all_data(url, params=None):\n",
    "    all_features = []\n",
    "    start_index = 0\n",
    "    while True:\n",
    "        print(\"Start index:\", start_index)\n",
    "        params[\"startindex\"] = start_index\n",
    "        data = get_data(url, params)\n",
    "        if not data:\n",
    "            break\n",
    "        features = data.get(\"features\", [])\n",
    "        print(\"features length:\", len(features))\n",
    "        if not features:\n",
    "            break\n",
    "        all_features.extend(features)\n",
    "        start_index += 1000\n",
    "    return {\n",
    "        \"type\": \"FeatureCollection\",\n",
    "        \"name\": data.get(\"name\", \"\"),\n",
    "        \"crs\": data.get(\"crs\", {}),\n",
    "        \"features\": all_features,\n",
    "        \"bbox\": data.get(\"bbox\", [])\n",
    "    }\n"
   ]
  },
  {
   "cell_type": "code",
   "execution_count": 10,
   "metadata": {},
   "outputs": [
    {
     "name": "stdout",
     "output_type": "stream",
     "text": [
      "Start index: 0\n",
      "features length: 1000\n",
      "Start index: 1000\n",
      "features length: 1000\n",
      "Start index: 2000\n",
      "features length: 1000\n",
      "Start index: 3000\n",
      "features length: 1000\n",
      "Start index: 4000\n",
      "features length: 1000\n",
      "Start index: 5000\n",
      "features length: 1000\n",
      "Start index: 6000\n",
      "features length: 1000\n",
      "Start index: 7000\n",
      "features length: 1000\n",
      "Start index: 8000\n",
      "features length: 1000\n",
      "Start index: 9000\n",
      "features length: 1000\n",
      "Start index: 10000\n",
      "features length: 1000\n",
      "Start index: 11000\n",
      "features length: 1000\n",
      "Start index: 12000\n",
      "features length: 1000\n",
      "Start index: 13000\n",
      "features length: 1000\n",
      "Start index: 14000\n",
      "features length: 421\n",
      "Start index: 15000\n",
      "features length: 0\n",
      "Buurt JSON data saved to buurt_data.json\n"
     ]
    }
   ],
   "source": [
    "\n",
    "# Example usage for buurt\n",
    "buurt_url = \"https://service.pdok.nl/cbs/gebiedsindelingen/2023/wfs/v1_0\"\n",
    "buurt_params = {\n",
    "    \"request\": \"GetFeature\",\n",
    "    \"service\": \"WFS\",\n",
    "    \"version\": \"2.0.0\",\n",
    "    \"outputFormat\": \"application/json; subtype=geojson\",\n",
    "    \"typeName\": \"buurt_gegeneraliseerd\",\n",
    "    \"srsname\": \"EPSG:4326\",\n",
    "    \"propertyName\": \"geom,statcode,statnaam\",\n",
    "    \"count\": 1000\n",
    "}\n",
    "\n",
    "all_buurt_data = get_all_data(buurt_url, buurt_params)\n",
    "\n",
    "# Save JSON data to file for buurt\n",
    "with open(\"buurt_geo.json\", \"w\") as file:\n",
    "    json.dump(all_buurt_data, file)\n",
    "\n",
    "print(\"Buurt JSON data saved to buurt_data.json\")\n"
   ]
  },
  {
   "cell_type": "code",
   "execution_count": 9,
   "metadata": {},
   "outputs": [
    {
     "name": "stdout",
     "output_type": "stream",
     "text": [
      "Start index: 0\n",
      "features length: 1000\n",
      "Start index: 1000\n",
      "features length: 1000\n",
      "Start index: 2000\n",
      "features length: 1000\n",
      "Start index: 3000\n",
      "features length: 352\n",
      "Start index: 4000\n",
      "features length: 0\n",
      "Wijk JSON data saved to wijk_data.json\n"
     ]
    }
   ],
   "source": [
    "\n",
    "# Example usage for wijk\n",
    "wijk_url = \"https://service.pdok.nl/cbs/gebiedsindelingen/2023/wfs/v1_0\"\n",
    "wijk_params = {\n",
    "    \"request\": \"GetFeature\",\n",
    "    \"service\": \"WFS\",\n",
    "    \"version\": \"2.0.0\",\n",
    "    \"outputFormat\": \"application/json; subtype=geojson\",\n",
    "    \"typeName\": \"wijk_gegeneraliseerd\",\n",
    "    \"srsname\": \"EPSG:4326\",\n",
    "    \"propertyName\": \"geom,statcode,statnaam\",\n",
    "    \"count\": 1000\n",
    "}\n",
    "\n",
    "all_wijk_data = get_all_data(wijk_url, wijk_params)\n",
    "\n",
    "# Save JSON data to file for wijk\n",
    "with open(\"wijk_geo.json\", \"w\") as file:\n",
    "    json.dump(all_wijk_data, file)\n",
    "\n",
    "print(\"Wijk JSON data saved to wijk_data.json\")\n",
    "\n",
    "\n"
   ]
  }
 ],
 "metadata": {
  "kernelspec": {
   "display_name": "Algemene_data-K2nutAzn",
   "language": "python",
   "name": "python3"
  },
  "language_info": {
   "codemirror_mode": {
    "name": "ipython",
    "version": 3
   },
   "file_extension": ".py",
   "mimetype": "text/x-python",
   "name": "python",
   "nbconvert_exporter": "python",
   "pygments_lexer": "ipython3",
   "version": "3.11.8"
  }
 },
 "nbformat": 4,
 "nbformat_minor": 2
}
